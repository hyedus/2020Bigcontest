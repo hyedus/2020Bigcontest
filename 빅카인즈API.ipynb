{
 "cells": [
  {
   "cell_type": "code",
   "execution_count": 6,
   "metadata": {},
   "outputs": [],
   "source": [
    "import requests\n",
    "from bs4 import BeautifulSoup\n",
    "import urllib\n",
    "import json\n",
    "import pandas as pd"
   ]
  },
  {
   "cell_type": "code",
   "execution_count": 7,
   "metadata": {},
   "outputs": [],
   "source": [
    "mykey = \"14fbfb9b-fa97-4f2e-8f6c-093edd4349db\""
   ]
  },
  {
   "cell_type": "code",
   "execution_count": 9,
   "metadata": {},
   "outputs": [
    {
     "data": {
      "text/plain": [
       "{'request_id': '',\n",
       " 'result': -1,\n",
       " 'reason': 'Invalid Access Key!:14fbfb9b-fa97-4f2e-8f6c-093edd4349db'}"
      ]
     },
     "execution_count": 9,
     "metadata": {},
     "output_type": "execute_result"
    }
   ],
   "source": [
    "url_4 = \"http://tools.kinds.or.kr:8888/issue_ranking\"\n",
    "params_4 = {\n",
    "    \"access_key\": mykey,\n",
    "    \"argument\": {\n",
    "        \"date\": \"2020-09-10\",\n",
    "        \"provider\": []\n",
    "    }\n",
    "}\n",
    "\n",
    "res4 = requests.post(url_4, data=json.dumps(params_4))\n",
    "\n",
    "data4 = res4.json()\n",
    "data4\n",
    "# items = data4['return_object']['topics']\n",
    "# new_items4 = pd.DataFrame(items)\n",
    "# new_items4"
   ]
  },
  {
   "cell_type": "code",
   "execution_count": null,
   "metadata": {},
   "outputs": [],
   "source": []
  }
 ],
 "metadata": {
  "kernelspec": {
   "display_name": "py37_tf1.15",
   "language": "python",
   "name": "py37"
  },
  "language_info": {
   "codemirror_mode": {
    "name": "ipython",
    "version": 3
   },
   "file_extension": ".py",
   "mimetype": "text/x-python",
   "name": "python",
   "nbconvert_exporter": "python",
   "pygments_lexer": "ipython3",
   "version": "3.7.7"
  }
 },
 "nbformat": 4,
 "nbformat_minor": 4
}
